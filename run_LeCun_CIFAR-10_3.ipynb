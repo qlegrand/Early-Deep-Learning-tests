{
 "cells": [
  {
   "cell_type": "code",
   "execution_count": 1,
   "metadata": {},
   "outputs": [],
   "source": [
    "import numpy as np\n",
    "import tensorflow as tf\n",
    "import pickle"
   ]
  },
  {
   "cell_type": "code",
   "execution_count": 2,
   "metadata": {},
   "outputs": [],
   "source": [
    "def scale_img(image):\n",
    "    return_img = np.zeros_like(image, dtype=float)\n",
    "\n",
    "    r_img = image[:, 0:1024]\n",
    "    r_avg = np.average(r_img)\n",
    "    r_std = np.std(r_img)\n",
    "    r_img = (r_img - r_avg) / r_std\n",
    "    return_img[:, 0:1024] = r_img\n",
    "\n",
    "    g_img = image[:, 1024:2048]\n",
    "    g_avg = np.average(g_img)\n",
    "    g_std = np.std(g_img)\n",
    "    g_img = (g_img - g_avg) / g_std\n",
    "    return_img[:, 1024:2048] = g_img\n",
    "\n",
    "    b_img = image[:, 2048:]\n",
    "    b_avg = np.average(b_img)\n",
    "    b_std = np.std(b_img)\n",
    "    b_img = (b_img - b_avg) / b_std\n",
    "    return_img[:, 2048:] = b_img\n",
    "\n",
    "    return return_img\n",
    "\n",
    "\n",
    "def unpickle(file):\n",
    "    with open(file, 'rb') as fo:\n",
    "        dict = pickle.load(fo, encoding='latin1')\n",
    "    return dict\n",
    "\n",
    "\n",
    "def unpickle_all(path):\n",
    "    train_images = np.zeros((50000, 32, 32, 3))\n",
    "    train_stack = np.zeros((50000, 3072))\n",
    "    test_images = np.zeros((10000, 32, 32, 3))\n",
    "    train_labels = np.zeros((50000))\n",
    "    test_labels = np.zeros((10000))\n",
    "    for i in range(1, 6):\n",
    "        j = i - 1\n",
    "        cifar10 = unpickle(path + '/data_batch_{}'.format(i))\n",
    "        train_labels[j * 10000:(j + 1) * 10000] = cifar10['labels']\n",
    "        train_stack[j * 10000:(j + 1) * 10000, :] = cifar10['data']\n",
    "\n",
    "    train_stack = scale_img(train_stack)\n",
    "    train_images = np.swapaxes(np.reshape(train_stack, (50000, 32, 32, 3), order='F'), axis1=1, axis2=2)\n",
    "\n",
    "    cifar10 = unpickle(path + '/test_batch')\n",
    "    test_labels = cifar10['labels']\n",
    "    data = scale_img(cifar10['data'])\n",
    "    test_images = np.swapaxes(np.reshape(data, (10000, 32, 32, 3), order='F'), axis1=1, axis2=2)\n",
    "\n",
    "    return train_images, train_labels, test_images, test_labels"
   ]
  },
  {
   "cell_type": "code",
   "execution_count": 3,
   "metadata": {},
   "outputs": [],
   "source": [
    "images, labels, test_images, test_labels = unpickle_all('./storage/CIFAR-10')"
   ]
  },
  {
   "cell_type": "code",
   "execution_count": 4,
   "metadata": {},
   "outputs": [],
   "source": [
    "tf.reset_default_graph()\n",
    "batch_size = 100\n",
    "total_batch = int(images.shape[0] / batch_size)"
   ]
  },
  {
   "cell_type": "code",
   "execution_count": 8,
   "metadata": {},
   "outputs": [],
   "source": [
    "x = tf.placeholder('float32', [None, 32, 32, 3], name=\"X\")\n",
    "y = tf.placeholder('int64', [None, ], name=\"Y\")\n",
    "\n",
    "# OUT_CL_1 : n x 14 x 14 x 6\n",
    "# OUT_CL_2 : n x 5 x 5 x 16 = n x 400\n",
    "# OUT_DENSE_1 : n x 120\n",
    "# OUT_DENSE_2 : n x 84\n",
    "\n",
    "W_CL_1 = tf.Variable(np.zeros((5, 5, 3, 6)), dtype=\"float32\", name=\"W_CL_1\")\n",
    "b_CL_1 = tf.Variable(np.zeros((1, 1, 1, 6)), dtype=\"float32\", name=\"b_CL_1\")\n",
    "W_CL_2 = tf.Variable(np.zeros((5, 5, 6, 16)), dtype=\"float32\", name=\"W_CL_2\")\n",
    "b_CL_2 = tf.Variable(np.zeros((1, 1, 1, 16)), dtype=\"float32\", name=\"b_CL_2\")\n",
    "\n",
    "W_DENSE_1 = tf.Variable(np.zeros((400, 120)), dtype=\"float32\", name=\"W_DENSE_1\")\n",
    "b_DENSE_1 = tf.Variable(np.zeros((1, 120)), dtype=\"float32\", name=\"b_DENSE_1\")\n",
    "W_DENSE_2 = tf.Variable(np.zeros((120, 84)), dtype=\"float32\", name=\"W_DENSE_2\")\n",
    "b_DENSE_2 = tf.Variable(np.zeros((1, 84)), dtype=\"float32\", name=\"b_DENSE_2\")\n",
    "W_LOGITS_1 = tf.Variable(np.zeros((84, 10)), dtype=\"float32\", name=\"W_LOGITS_1\")\n",
    "b_LOGITS_1 = tf.Variable(np.zeros((1, 10)), dtype=\"float32\", name=\"b_LOGITS_1\")\n",
    "\n",
    "\n",
    "with tf.name_scope(\"CL1\"):\n",
    "    CL_1 = tf.nn.conv2d(x, W_CL_1, strides=[1, 1, 1, 1], padding=\"VALID\", name=\"CL_1\")\n",
    "    RELU_CL_1 = tf.nn.relu(tf.add(CL_1, b_CL_1), name=\"RELU_CL_1\")\n",
    "    MAXPOOL_1 = tf.nn.max_pool(RELU_CL_1, ksize=(1, 2, 2, 1), strides=(1, 2, 2, 1), padding=\"VALID\", name=\"MAXPOOL_1\")\n",
    "\n",
    "with tf.name_scope(\"CL2\"):\n",
    "    CL_2 = tf.nn.conv2d(MAXPOOL_1, W_CL_2, strides=[1, 1, 1, 1], padding=\"VALID\", name=\"CL_2\")\n",
    "    RELU_CL_2 = tf.nn.relu(tf.add(CL_2, b_CL_2), name=\"RELU_CL_2\")\n",
    "    MAXPOOL_2 = tf.nn.max_pool(RELU_CL_2, ksize=(1, 2, 2, 1), strides=(1, 2, 2, 1), padding=\"VALID\", name=\"MAXPOOL_2\")\n",
    "    FLAT_2 = tf.layers.flatten(MAXPOOL_2, name=\"FLAT_2\")\n",
    "\n",
    "with tf.name_scope(\"DENSE_1\"):\n",
    "    DENSE_1 = tf.add(tf.matmul(FLAT_2, W_DENSE_1), b_DENSE_1)\n",
    "    RELU_DENSE_1 = tf.nn.relu(DENSE_1, name=\"RELU_DENSE_1\")\n",
    "\n",
    "with tf.name_scope(\"DENSE_2\"):\n",
    "    DENSE_2 = tf.add(tf.matmul(RELU_DENSE_1, W_DENSE_2), b_DENSE_2)\n",
    "    RELU_DENSE_2 = tf.nn.relu(DENSE_2, name=\"RELU_DENSE_2\")\n",
    "\n",
    "with tf.name_scope(\"LOGITS_1\"):\n",
    "    LOGITS_1 = tf.add(tf.matmul(RELU_DENSE_2, W_LOGITS_1), b_LOGITS_1)\n",
    "\n",
    "with tf.name_scope(\"PREDICTIONS\"):\n",
    "    y_hat = tf.nn.softmax(LOGITS_1, name=\"y_hat\")\n",
    "    predictions = tf.argmax(y_hat, 1)\n",
    "\n",
    "with tf.name_scope(\"ACCURACY\"):\n",
    "    compare = tf.equal(predictions, y)\n",
    "    accuracy = tf.reduce_mean(tf.cast(compare, tf.float32))\n",
    "\n",
    "saver = tf.train.Saver()"
   ]
  },
  {
   "cell_type": "code",
   "execution_count": 24,
   "metadata": {},
   "outputs": [
    {
     "name": "stdout",
     "output_type": "stream",
     "text": [
      "INFO:tensorflow:Restoring parameters from ./data/model/model.ckpt\n",
      "Predictions : [6 3 9 3 6 9 6 7 4 1 8 7 3 6 9 3 0 4 0 5 1 0 3 4 8 5 6 7 2 3]\n",
      "Ground truth: [6 2 9 2 5 9 6 7 4 1 8 7 3 6 9 3 0 4 0 5 1 0 3 4 8 5 4 7 2 3]\n"
     ]
    }
   ],
   "source": [
    "with tf.Session() as sess:\n",
    "\n",
    "    saver.restore(sess, \"./data/model/model.ckpt\")\n",
    "    summary_writer = tf.summary.FileWriter('data/logs')\n",
    "    summary_writer.add_graph(sess.graph)\n",
    "    avg_train_accuracy = []\n",
    "    total_batch = int(images.shape[0] / batch_size)\n",
    "    '''\n",
    "    for i in range(2):\n",
    "        batch_xs = images[i * batch_size:(i + 1) * batch_size, :, :, :]\n",
    "        batch_ys = labels[i * batch_size:(i + 1) * batch_size]\n",
    "        train_accuracy = sess.run([accuracy],feed_dict={x: batch_xs, y: batch_ys})\n",
    "        avg_train_accuracy.append(train_accuracy)\n",
    "   \n",
    "    test_accuracy = sess.run([accuracy], feed_dict={x: test_images, y: test_labels})\n",
    "    print(\"Train accuracy= {}  Test accuracy= {}\".format(avg_train_accuracy, test_accuracy[0]))\n",
    "    '''\n",
    "    \n",
    "    pred = sess.run([predictions], feed_dict={x: images[355:385,:,:,:]})\n",
    "    pred = np.asarray(pred)\n",
    "    pred = pred[0]\n",
    "    truth = np.asarray(labels[355:385]).astype(int)\n",
    "    \n",
    "    print(\"Predictions : {}\".format(pred)) \n",
    "    print(\"Ground truth: {}\".format(truth))"
   ]
  },
  {
   "cell_type": "code",
   "execution_count": null,
   "metadata": {},
   "outputs": [],
   "source": []
  }
 ],
 "metadata": {
  "kernelspec": {
   "display_name": "Python 3",
   "language": "python",
   "name": "python3"
  },
  "language_info": {
   "codemirror_mode": {
    "name": "ipython",
    "version": 3
   },
   "file_extension": ".py",
   "mimetype": "text/x-python",
   "name": "python",
   "nbconvert_exporter": "python",
   "pygments_lexer": "ipython3",
   "version": "3.6.6"
  }
 },
 "nbformat": 4,
 "nbformat_minor": 2
}
